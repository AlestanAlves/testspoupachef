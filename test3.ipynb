{
  "nbformat": 4,
  "nbformat_minor": 0,
  "metadata": {
    "colab": {
      "name": "test3.ipynb",
      "provenance": [],
      "include_colab_link": true
    },
    "kernelspec": {
      "name": "python3",
      "display_name": "Python 3"
    }
  },
  "cells": [
    {
      "cell_type": "markdown",
      "metadata": {
        "id": "view-in-github",
        "colab_type": "text"
      },
      "source": [
        "<a href=\"https://colab.research.google.com/github/AlestanAlves/testspoupachef/blob/master/test3.ipynb\" target=\"_parent\"><img src=\"https://colab.research.google.com/assets/colab-badge.svg\" alt=\"Open In Colab\"/></a>"
      ]
    },
    {
      "cell_type": "code",
      "metadata": {
        "colab_type": "code",
        "id": "R4MSQNka0-Zn",
        "colab": {}
      },
      "source": [
        "alfab = \"ABCDEFGHIJKLMNOPQRSTUVWXYZ\"\n",
        "\n",
        "def pegarcoluna(num):\n",
        "    num_colu = 1\n",
        "    min_range, max_range = 1, 26\n",
        "    while num > max_range:\n",
        "        num_colu += 1\n",
        "        min_range = max_range\n",
        "        max_range += len(alfab) ** num_colu\n",
        "\n",
        "    chars = list()\n",
        "    for _ in range(num_colu):\n",
        "        intervalo = ((max_range - min_range + 1) // len(alfab))\n",
        "        colu_pos = 0\n",
        "        prev, curr = min_range, min_range + intervalo\n",
        "        while num >= curr:\n",
        "            colu_pos += 1\n",
        "            prev = curr\n",
        "            curr = prev + intervalo\n",
        "        chars.append(alfab[colu_pos])\n",
        "        num -= prev\n",
        "        min_range, max_range = prev, curr\n",
        "\n",
        "    return \"\".join(chars)\n",
        "\n",
        "# Para testar coloque > pegarcoluna(1) o número é correspondente a coluna respectiva"
      ],
      "execution_count": 0,
      "outputs": []
    },
    {
      "cell_type": "code",
      "metadata": {
        "id": "h97ycp5qwjdE",
        "colab_type": "code",
        "colab": {
          "base_uri": "https://localhost:8080/",
          "height": 34
        },
        "outputId": "c767edee-5c7c-4c58-9279-e988f73e9291"
      },
      "source": [
        "pegarcoluna(4)\n",
        "\n",
        "\n"
      ],
      "execution_count": 78,
      "outputs": [
        {
          "output_type": "execute_result",
          "data": {
            "text/plain": [
              "'D'"
            ]
          },
          "metadata": {
            "tags": []
          },
          "execution_count": 78
        }
      ]
    }
  ]
}