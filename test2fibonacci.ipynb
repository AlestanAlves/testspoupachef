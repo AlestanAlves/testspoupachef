{
  "nbformat": 4,
  "nbformat_minor": 0,
  "metadata": {
    "colab": {
      "name": "test2fibonacci",
      "provenance": [],
      "include_colab_link": true
    },
    "kernelspec": {
      "name": "python3",
      "display_name": "Python 3"
    }
  },
  "cells": [
    {
      "cell_type": "markdown",
      "metadata": {
        "id": "view-in-github",
        "colab_type": "text"
      },
      "source": [
        "<a href=\"https://colab.research.google.com/github/AlestanAlves/testspoupachef/blob/master/test2fibonacci.ipynb\" target=\"_parent\"><img src=\"https://colab.research.google.com/assets/colab-badge.svg\" alt=\"Open In Colab\"/></a>"
      ]
    },
    {
      "cell_type": "code",
      "metadata": {
        "id": "Gtp8oAjkcNCj",
        "colab_type": "code",
        "outputId": "dc8f862f-47f8-4d3f-eff3-a80eab31a56c",
        "colab": {
          "base_uri": "https://localhost:8080/",
          "height": 52
        }
      },
      "source": [
        "n = int(input(\"Qual termo você quer encontrar: \"))\n",
        "u=1 #ultimo numero\n",
        "p=1 #penultimo numero\n",
        "\n",
        "if (n==1) or (n==2): #Condição inicial do fibonacci é que o termo 1 e o termo 2 valem 1\n",
        "    print(\"1\")\n",
        "else:\n",
        "    for count in range(2,n): \n",
        "        termo = u + p  # O próximo número da série é sempre a soma dos dois anteriores\n",
        "        p = u\n",
        "        u = termo\n",
        "        count += 1\n",
        "    print(termo)"
      ],
      "execution_count": 0,
      "outputs": [
        {
          "output_type": "stream",
          "text": [
            "Qual termo você quer encontrar: 10\n",
            "55\n"
          ],
          "name": "stdout"
        }
      ]
    }
  ]
}